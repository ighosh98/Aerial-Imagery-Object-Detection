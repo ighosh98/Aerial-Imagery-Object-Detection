{
  "nbformat": 4,
  "nbformat_minor": 0,
  "metadata": {
    "colab": {
      "name": "Anchor_Optimization.ipynb",
      "provenance": [],
      "authorship_tag": "ABX9TyPQ2o/fpBgTrPXVg4FmaObI",
      "include_colab_link": true
    },
    "kernelspec": {
      "name": "python3",
      "display_name": "Python 3"
    },
    "accelerator": "GPU"
  },
  "cells": [
    {
      "cell_type": "markdown",
      "metadata": {
        "id": "view-in-github",
        "colab_type": "text"
      },
      "source": [
        "<a href=\"https://colab.research.google.com/github/ighosh98/Aerial-Imagery-Object-Detection/blob/anchors/keras-retinanet-master/Notebooks/Anchor_Optimization_Full_Dataset.ipynb\" target=\"_parent\"><img src=\"https://colab.research.google.com/assets/colab-badge.svg\" alt=\"Open In Colab\"/></a>"
      ]
    },
    {
      "cell_type": "code",
      "metadata": {
        "id": "UeyAAYD-8olX",
        "colab_type": "code",
        "colab": {
          "base_uri": "https://localhost:8080/",
          "height": 139
        },
        "outputId": "7a236245-76b9-4013-afbb-d8df801e7480"
      },
      "source": [
        "from google.colab import drive # import drive from google colab\n",
        "\n",
        "ROOT = \"/content/drive\"     # default location for the drive\n",
        "print(ROOT)                 # print content of ROOT (Optional)\n",
        "\n",
        "drive.mount(ROOT)           # we mount the google drive at /content/drive"
      ],
      "execution_count": 2,
      "outputs": [
        {
          "output_type": "stream",
          "text": [
            "/content/drive\n",
            "Go to this URL in a browser: https://accounts.google.com/o/oauth2/auth?client_id=947318989803-6bn6qk8qdgf4n4g3pfee6491hc0brc4i.apps.googleusercontent.com&redirect_uri=urn%3aietf%3awg%3aoauth%3a2.0%3aoob&response_type=code&scope=email%20https%3a%2f%2fwww.googleapis.com%2fauth%2fdocs.test%20https%3a%2f%2fwww.googleapis.com%2fauth%2fdrive%20https%3a%2f%2fwww.googleapis.com%2fauth%2fdrive.photos.readonly%20https%3a%2f%2fwww.googleapis.com%2fauth%2fpeopleapi.readonly\n",
            "\n",
            "Enter your authorization code:\n",
            "··········\n",
            "Mounted at /content/drive\n"
          ],
          "name": "stdout"
        }
      ]
    },
    {
      "cell_type": "code",
      "metadata": {
        "id": "YnQA-IFU8wCg",
        "colab_type": "code",
        "colab": {
          "base_uri": "https://localhost:8080/",
          "height": 34
        },
        "outputId": "a0c13874-7c19-4130-982a-42b942c9c570"
      },
      "source": [
        "%cd My\\ Drive/CS\\ SOP"
      ],
      "execution_count": 5,
      "outputs": [
        {
          "output_type": "stream",
          "text": [
            "/content/drive/My Drive/CS SOP\n"
          ],
          "name": "stdout"
        }
      ]
    },
    {
      "cell_type": "code",
      "metadata": {
        "id": "xQWO5ASH9JAB",
        "colab_type": "code",
        "colab": {
          "base_uri": "https://localhost:8080/",
          "height": 170
        },
        "outputId": "0000e7de-2663-423d-ff5f-ed99cac48f93"
      },
      "source": [
        "%ls"
      ],
      "execution_count": 8,
      "outputs": [
        {
          "output_type": "stream",
          "text": [
            "\u001b[0m\u001b[01;34maiskyeye_dataset\u001b[0m/                                __init__.py\n",
            "\u001b[01;34manchor-optimization-master\u001b[0m/                      labels.csv\n",
            "\u001b[01;34mbuild\u001b[0m/                                           optimize_anchors.py\n",
            "compute_overlap.c                                \u001b[01;34m__pycache__\u001b[0m/\n",
            "compute_overlap.cpython-36m-x86_64-linux-gnu.so  setup.py\n",
            "compute_overlap.pyx                              train_annotations2.csv\n",
            "convert_model.py                                 train_annotations.csv\n",
            "debug.py                                         train.py\n",
            "evaluate.py                                      val_annotations.csv\n"
          ],
          "name": "stdout"
        }
      ]
    },
    {
      "cell_type": "code",
      "metadata": {
        "id": "bzEKRi6V9Q6D",
        "colab_type": "code",
        "colab": {
          "base_uri": "https://localhost:8080/",
          "height": 34
        },
        "outputId": "5c81b5c0-3ff0-4b93-c180-25313ca6d4ff"
      },
      "source": [
        "%cd drive"
      ],
      "execution_count": 4,
      "outputs": [
        {
          "output_type": "stream",
          "text": [
            "/content/drive\n"
          ],
          "name": "stdout"
        }
      ]
    },
    {
      "cell_type": "code",
      "metadata": {
        "id": "0W2MOqnZ80x7",
        "colab_type": "code",
        "colab": {
          "base_uri": "https://localhost:8080/",
          "height": 34
        },
        "outputId": "4d06adff-dd8d-44f1-af90-b8d9a43ea734"
      },
      "source": [
        "%cd keras-retinanet-master"
      ],
      "execution_count": 6,
      "outputs": [
        {
          "output_type": "stream",
          "text": [
            "/content/drive/My Drive/CS SOP/keras-retinanet-master\n"
          ],
          "name": "stdout"
        }
      ]
    },
    {
      "cell_type": "code",
      "metadata": {
        "id": "uVz8VyHW83rj",
        "colab_type": "code",
        "colab": {
          "base_uri": "https://localhost:8080/",
          "height": 34
        },
        "outputId": "081668b4-7df6-4d49-aa06-df7be638b327"
      },
      "source": [
        "%cd input"
      ],
      "execution_count": 19,
      "outputs": [
        {
          "output_type": "stream",
          "text": [
            "/content/drive/My Drive/CS SOP/keras-retinanet-master/input\n"
          ],
          "name": "stdout"
        }
      ]
    },
    {
      "cell_type": "markdown",
      "metadata": {
        "id": "HF68AC4lEP2J",
        "colab_type": "text"
      },
      "source": [
        "**Environment Setup**"
      ]
    },
    {
      "cell_type": "code",
      "metadata": {
        "id": "vsXYEso19dIR",
        "colab_type": "code",
        "colab": {
          "base_uri": "https://localhost:8080/",
          "height": 1000
        },
        "outputId": "1d1c2a12-01f1-4f4f-e9ce-4d3f46c09aef"
      },
      "source": [
        "!pip install ."
      ],
      "execution_count": 9,
      "outputs": [
        {
          "output_type": "stream",
          "text": [
            "Processing /content/drive/My Drive/CS SOP/keras-retinanet-master/keras_retinanet/bin\n",
            "Collecting keras_retinanet==0.5.1\n",
            "\u001b[?25l  Downloading https://files.pythonhosted.org/packages/20/ca/63f77949493c63eebf982bc1edb0b54d849b6d709a724328ea5682e6b40e/keras-retinanet-0.5.1.tar.gz (61kB)\n",
            "\u001b[K     |████████████████████████████████| 61kB 3.0MB/s \n",
            "\u001b[?25hRequirement already satisfied: numpy in /usr/local/lib/python3.6/dist-packages (from anchor-optimization==0.0.1) (1.18.2)\n",
            "Requirement already satisfied: scipy in /usr/local/lib/python3.6/dist-packages (from anchor-optimization==0.0.1) (1.4.1)\n",
            "Requirement already satisfied: cython in /usr/local/lib/python3.6/dist-packages (from anchor-optimization==0.0.1) (0.29.16)\n",
            "Requirement already satisfied: tensorflow in /usr/local/lib/python3.6/dist-packages (from anchor-optimization==0.0.1) (2.2.0rc3)\n",
            "Requirement already satisfied: keras in /usr/local/lib/python3.6/dist-packages (from keras_retinanet==0.5.1->anchor-optimization==0.0.1) (2.3.1)\n",
            "Collecting keras-resnet\n",
            "  Downloading https://files.pythonhosted.org/packages/76/d4/a35cbd07381139dda4db42c81b88c59254faac026109022727b45b31bcad/keras-resnet-0.2.0.tar.gz\n",
            "Requirement already satisfied: six in /usr/local/lib/python3.6/dist-packages (from keras_retinanet==0.5.1->anchor-optimization==0.0.1) (1.12.0)\n",
            "Requirement already satisfied: Pillow in /usr/local/lib/python3.6/dist-packages (from keras_retinanet==0.5.1->anchor-optimization==0.0.1) (7.0.0)\n",
            "Requirement already satisfied: opencv-python in /usr/local/lib/python3.6/dist-packages (from keras_retinanet==0.5.1->anchor-optimization==0.0.1) (4.1.2.30)\n",
            "Requirement already satisfied: progressbar2 in /usr/local/lib/python3.6/dist-packages (from keras_retinanet==0.5.1->anchor-optimization==0.0.1) (3.38.0)\n",
            "Requirement already satisfied: protobuf>=3.8.0 in /usr/local/lib/python3.6/dist-packages (from tensorflow->anchor-optimization==0.0.1) (3.10.0)\n",
            "Requirement already satisfied: keras-preprocessing>=1.1.0 in /usr/local/lib/python3.6/dist-packages (from tensorflow->anchor-optimization==0.0.1) (1.1.0)\n",
            "Requirement already satisfied: astunparse==1.6.3 in /usr/local/lib/python3.6/dist-packages (from tensorflow->anchor-optimization==0.0.1) (1.6.3)\n",
            "Requirement already satisfied: opt-einsum>=2.3.2 in /usr/local/lib/python3.6/dist-packages (from tensorflow->anchor-optimization==0.0.1) (3.2.0)\n",
            "Requirement already satisfied: google-pasta>=0.1.8 in /usr/local/lib/python3.6/dist-packages (from tensorflow->anchor-optimization==0.0.1) (0.2.0)\n",
            "Requirement already satisfied: grpcio>=1.8.6 in /usr/local/lib/python3.6/dist-packages (from tensorflow->anchor-optimization==0.0.1) (1.28.1)\n",
            "Requirement already satisfied: wheel>=0.26; python_version >= \"3\" in /usr/local/lib/python3.6/dist-packages (from tensorflow->anchor-optimization==0.0.1) (0.34.2)\n",
            "Requirement already satisfied: tensorboard<2.3.0,>=2.2.0 in /usr/local/lib/python3.6/dist-packages (from tensorflow->anchor-optimization==0.0.1) (2.2.0)\n",
            "Requirement already satisfied: h5py<2.11.0,>=2.10.0 in /usr/local/lib/python3.6/dist-packages (from tensorflow->anchor-optimization==0.0.1) (2.10.0)\n",
            "Requirement already satisfied: wrapt>=1.11.1 in /usr/local/lib/python3.6/dist-packages (from tensorflow->anchor-optimization==0.0.1) (1.12.1)\n",
            "Requirement already satisfied: termcolor>=1.1.0 in /usr/local/lib/python3.6/dist-packages (from tensorflow->anchor-optimization==0.0.1) (1.1.0)\n",
            "Requirement already satisfied: absl-py>=0.7.0 in /usr/local/lib/python3.6/dist-packages (from tensorflow->anchor-optimization==0.0.1) (0.9.0)\n",
            "Requirement already satisfied: gast==0.3.3 in /usr/local/lib/python3.6/dist-packages (from tensorflow->anchor-optimization==0.0.1) (0.3.3)\n",
            "Requirement already satisfied: tensorflow-estimator<2.3.0,>=2.2.0rc0 in /usr/local/lib/python3.6/dist-packages (from tensorflow->anchor-optimization==0.0.1) (2.2.0rc0)\n",
            "Requirement already satisfied: keras-applications>=1.0.6 in /usr/local/lib/python3.6/dist-packages (from keras->keras_retinanet==0.5.1->anchor-optimization==0.0.1) (1.0.8)\n",
            "Requirement already satisfied: pyyaml in /usr/local/lib/python3.6/dist-packages (from keras->keras_retinanet==0.5.1->anchor-optimization==0.0.1) (3.13)\n",
            "Requirement already satisfied: python-utils>=2.3.0 in /usr/local/lib/python3.6/dist-packages (from progressbar2->keras_retinanet==0.5.1->anchor-optimization==0.0.1) (2.4.0)\n",
            "Requirement already satisfied: setuptools in /usr/local/lib/python3.6/dist-packages (from protobuf>=3.8.0->tensorflow->anchor-optimization==0.0.1) (46.1.3)\n",
            "Requirement already satisfied: requests<3,>=2.21.0 in /usr/local/lib/python3.6/dist-packages (from tensorboard<2.3.0,>=2.2.0->tensorflow->anchor-optimization==0.0.1) (2.21.0)\n",
            "Requirement already satisfied: google-auth<2,>=1.6.3 in /usr/local/lib/python3.6/dist-packages (from tensorboard<2.3.0,>=2.2.0->tensorflow->anchor-optimization==0.0.1) (1.7.2)\n",
            "Requirement already satisfied: markdown>=2.6.8 in /usr/local/lib/python3.6/dist-packages (from tensorboard<2.3.0,>=2.2.0->tensorflow->anchor-optimization==0.0.1) (3.2.1)\n",
            "Requirement already satisfied: werkzeug>=0.11.15 in /usr/local/lib/python3.6/dist-packages (from tensorboard<2.3.0,>=2.2.0->tensorflow->anchor-optimization==0.0.1) (1.0.1)\n",
            "Requirement already satisfied: google-auth-oauthlib<0.5,>=0.4.1 in /usr/local/lib/python3.6/dist-packages (from tensorboard<2.3.0,>=2.2.0->tensorflow->anchor-optimization==0.0.1) (0.4.1)\n",
            "Requirement already satisfied: tensorboard-plugin-wit>=1.6.0 in /usr/local/lib/python3.6/dist-packages (from tensorboard<2.3.0,>=2.2.0->tensorflow->anchor-optimization==0.0.1) (1.6.0.post3)\n",
            "Requirement already satisfied: idna<2.9,>=2.5 in /usr/local/lib/python3.6/dist-packages (from requests<3,>=2.21.0->tensorboard<2.3.0,>=2.2.0->tensorflow->anchor-optimization==0.0.1) (2.8)\n",
            "Requirement already satisfied: certifi>=2017.4.17 in /usr/local/lib/python3.6/dist-packages (from requests<3,>=2.21.0->tensorboard<2.3.0,>=2.2.0->tensorflow->anchor-optimization==0.0.1) (2020.4.5.1)\n",
            "Requirement already satisfied: urllib3<1.25,>=1.21.1 in /usr/local/lib/python3.6/dist-packages (from requests<3,>=2.21.0->tensorboard<2.3.0,>=2.2.0->tensorflow->anchor-optimization==0.0.1) (1.24.3)\n",
            "Requirement already satisfied: chardet<3.1.0,>=3.0.2 in /usr/local/lib/python3.6/dist-packages (from requests<3,>=2.21.0->tensorboard<2.3.0,>=2.2.0->tensorflow->anchor-optimization==0.0.1) (3.0.4)\n",
            "Requirement already satisfied: rsa<4.1,>=3.1.4 in /usr/local/lib/python3.6/dist-packages (from google-auth<2,>=1.6.3->tensorboard<2.3.0,>=2.2.0->tensorflow->anchor-optimization==0.0.1) (4.0)\n",
            "Requirement already satisfied: pyasn1-modules>=0.2.1 in /usr/local/lib/python3.6/dist-packages (from google-auth<2,>=1.6.3->tensorboard<2.3.0,>=2.2.0->tensorflow->anchor-optimization==0.0.1) (0.2.8)\n",
            "Requirement already satisfied: cachetools<3.2,>=2.0.0 in /usr/local/lib/python3.6/dist-packages (from google-auth<2,>=1.6.3->tensorboard<2.3.0,>=2.2.0->tensorflow->anchor-optimization==0.0.1) (3.1.1)\n",
            "Requirement already satisfied: requests-oauthlib>=0.7.0 in /usr/local/lib/python3.6/dist-packages (from google-auth-oauthlib<0.5,>=0.4.1->tensorboard<2.3.0,>=2.2.0->tensorflow->anchor-optimization==0.0.1) (1.3.0)\n",
            "Requirement already satisfied: pyasn1>=0.1.3 in /usr/local/lib/python3.6/dist-packages (from rsa<4.1,>=3.1.4->google-auth<2,>=1.6.3->tensorboard<2.3.0,>=2.2.0->tensorflow->anchor-optimization==0.0.1) (0.4.8)\n",
            "Requirement already satisfied: oauthlib>=3.0.0 in /usr/local/lib/python3.6/dist-packages (from requests-oauthlib>=0.7.0->google-auth-oauthlib<0.5,>=0.4.1->tensorboard<2.3.0,>=2.2.0->tensorflow->anchor-optimization==0.0.1) (3.1.0)\n",
            "Building wheels for collected packages: anchor-optimization, keras-retinanet, keras-resnet\n",
            "  Building wheel for anchor-optimization (setup.py) ... \u001b[?25l\u001b[?25hdone\n",
            "  Created wheel for anchor-optimization: filename=anchor_optimization-0.0.1-cp36-cp36m-linux_x86_64.whl size=65175 sha256=b01a1cab6eaf44f1823e506054a665c020baf3d50471633abdedd8cf03d4ae1b\n",
            "  Stored in directory: /tmp/pip-ephem-wheel-cache-4a0659hk/wheels/cd/47/e0/e134cd93641eda9f2e1a9f86413a7723edf25a98fbdd6da0a1\n",
            "  Building wheel for keras-retinanet (setup.py) ... \u001b[?25l\u001b[?25hdone\n",
            "  Created wheel for keras-retinanet: filename=keras_retinanet-0.5.1-cp36-cp36m-linux_x86_64.whl size=156759 sha256=c9d9a3378bc637501f882157e23fe075675ceea10fbae8d5c3e4bb8beb36256d\n",
            "  Stored in directory: /root/.cache/pip/wheels/d9/a5/98/87f8ed08913b184bb625dde1c1277a4dfe969c77b377abde69\n",
            "  Building wheel for keras-resnet (setup.py) ... \u001b[?25l\u001b[?25hdone\n",
            "  Created wheel for keras-resnet: filename=keras_resnet-0.2.0-py2.py3-none-any.whl size=20487 sha256=089095f53c27ae2fb9e4b3b239455efa5b5652500cbe9254c3c5d216ead9cb95\n",
            "  Stored in directory: /root/.cache/pip/wheels/5f/09/a5/497a30fd9ad9964e98a1254d1e164bcd1b8a5eda36197ecb3c\n",
            "Successfully built anchor-optimization keras-retinanet keras-resnet\n",
            "Installing collected packages: keras-resnet, keras-retinanet, anchor-optimization\n",
            "Successfully installed anchor-optimization-0.0.1 keras-resnet-0.2.0 keras-retinanet-0.5.1\n"
          ],
          "name": "stdout"
        }
      ]
    },
    {
      "cell_type": "code",
      "metadata": {
        "id": "QSxXfZFD93am",
        "colab_type": "code",
        "colab": {
          "base_uri": "https://localhost:8080/",
          "height": 34
        },
        "outputId": "7ad03ada-b8d5-473a-f244-ba922f7f45e1"
      },
      "source": [
        "%cd .."
      ],
      "execution_count": 23,
      "outputs": [
        {
          "output_type": "stream",
          "text": [
            "/content/drive/My Drive/CS SOP/keras-retinanet-master\n"
          ],
          "name": "stdout"
        }
      ]
    },
    {
      "cell_type": "code",
      "metadata": {
        "id": "1ll8BAAg97do",
        "colab_type": "code",
        "colab": {
          "base_uri": "https://localhost:8080/",
          "height": 34
        },
        "outputId": "85e744cc-8b8a-4303-8975-e4adb5e91d1a"
      },
      "source": [
        "%cd keras_retinanet/bin/"
      ],
      "execution_count": 7,
      "outputs": [
        {
          "output_type": "stream",
          "text": [
            "/content/drive/My Drive/CS SOP/keras-retinanet-master/keras_retinanet/bin\n"
          ],
          "name": "stdout"
        }
      ]
    },
    {
      "cell_type": "code",
      "metadata": {
        "id": "Pnn7Cxsw-nNh",
        "colab_type": "code",
        "colab": {
          "base_uri": "https://localhost:8080/",
          "height": 68
        },
        "outputId": "5f74ea16-0263-438c-c9ba-8ad19f24c739"
      },
      "source": [
        "!python setup.py build_ext --inplace"
      ],
      "execution_count": 10,
      "outputs": [
        {
          "output_type": "stream",
          "text": [
            "running build_ext\n",
            "skipping 'compute_overlap.c' Cython extension (up-to-date)\n",
            "copying build/lib.linux-x86_64-3.6/compute_overlap.cpython-36m-x86_64-linux-gnu.so -> \n"
          ],
          "name": "stdout"
        }
      ]
    },
    {
      "cell_type": "markdown",
      "metadata": {
        "id": "JAyKf9SHEKgD",
        "colab_type": "text"
      },
      "source": [
        "**Final Anchor Optimization Step** <br/>\n",
        "The Anchor Optimization is carried out on the entire dataset to obtain the values. This is then to be hard coded in the model. "
      ]
    },
    {
      "cell_type": "code",
      "metadata": {
        "id": "sUiVPNlH-tpJ",
        "colab_type": "code",
        "colab": {
          "base_uri": "https://localhost:8080/",
          "height": 1000
        },
        "outputId": "27dd9531-5467-4cbf-c618-c42358555705"
      },
      "source": [
        "!python optimize_anchors.py train_annotations2.csv --no-resize"
      ],
      "execution_count": 11,
      "outputs": [
        {
          "output_type": "stream",
          "text": [
            "Using TensorFlow backend.\n",
            "2020-04-17 21:19:59.356820: I tensorflow/stream_executor/platform/default/dso_loader.cc:44] Successfully opened dynamic library libcudart.so.10.1\n",
            "Loading object dimensions.\n",
            "Optimising anchors.\n",
            "Current best anchor configuration\n",
            "Ratios: [0.785, 1.0, 1.274]\n",
            "Scales: [0.747, 0.908, 1.484]\n",
            "Number of labels that don't have any matching anchor: 102997\n",
            "\n",
            "Current best anchor configuration\n",
            "Ratios: [0.9, 1.0, 1.111]\n",
            "Scales: [0.452, 1.516, 1.634]\n",
            "Number of labels that don't have any matching anchor: 67075\n",
            "\n",
            "Current best anchor configuration\n",
            "Ratios: [0.612, 1.0, 1.633]\n",
            "Scales: [0.489, 1.612, 1.631]\n",
            "Number of labels that don't have any matching anchor: 41147\n",
            "\n",
            "Current best anchor configuration\n",
            "Ratios: [0.469, 1.0, 2.131]\n",
            "Scales: [0.459, 1.058, 1.498]\n",
            "Number of labels that don't have any matching anchor: 34471\n",
            "\n",
            "Current best anchor configuration\n",
            "Ratios: [0.373, 1.0, 2.684]\n",
            "Scales: [0.448, 0.508, 1.956]\n",
            "Number of labels that don't have any matching anchor: 32182\n",
            "\n",
            "Current best anchor configuration\n",
            "Ratios: [0.442, 1.0, 2.262]\n",
            "Scales: [0.411, 1.654, 1.753]\n",
            "Number of labels that don't have any matching anchor: 26131\n",
            "\n",
            "Current best anchor configuration\n",
            "Ratios: [0.583, 1.0, 1.717]\n",
            "Scales: [0.401, 1.038, 1.909]\n",
            "Number of labels that don't have any matching anchor: 24350\n",
            "\n",
            "Current best anchor configuration\n",
            "Ratios: [0.625, 1.0, 1.601]\n",
            "Scales: [0.418, 0.573, 1.905]\n",
            "Number of labels that don't have any matching anchor: 28137\n",
            "\n",
            "Current best anchor configuration\n",
            "Ratios: [0.546, 1.0, 1.831]\n",
            "Scales: [0.403, 1.142, 1.213]\n",
            "Number of labels that don't have any matching anchor: 24598\n",
            "\n",
            "Current best anchor configuration\n",
            "Ratios: [0.496, 1.0, 2.017]\n",
            "Scales: [0.403, 0.42, 1.34]\n",
            "Number of labels that don't have any matching anchor: 24228\n",
            "\n",
            "Current best anchor configuration\n",
            "Ratios: [0.402, 1.0, 2.49]\n",
            "Scales: [0.418, 0.54, 1.938]\n",
            "Number of labels that don't have any matching anchor: 26320\n",
            "\n",
            "Current best anchor configuration\n",
            "Ratios: [0.52, 1.0, 1.923]\n",
            "Scales: [0.43, 0.639, 1.053]\n",
            "Number of labels that don't have any matching anchor: 28930\n",
            "\n",
            "Current best anchor configuration\n",
            "Ratios: [0.402, 1.0, 2.485]\n",
            "Scales: [0.405, 0.518, 0.943]\n",
            "Number of labels that don't have any matching anchor: 23989\n",
            "\n",
            "Current best anchor configuration\n",
            "Ratios: [0.496, 1.0, 2.017]\n",
            "Scales: [0.403, 0.511, 1.94]\n",
            "Number of labels that don't have any matching anchor: 24196\n",
            "\n",
            "Current best anchor configuration\n",
            "Ratios: [0.48, 1.0, 2.083]\n",
            "Scales: [0.401, 0.488, 1.429]\n",
            "Number of labels that don't have any matching anchor: 23467\n",
            "\n",
            "Current best anchor configuration\n",
            "Ratios: [0.496, 1.0, 2.017]\n",
            "Scales: [0.403, 0.545, 1.103]\n",
            "Number of labels that don't have any matching anchor: 24191\n",
            "\n",
            "Current best anchor configuration\n",
            "Ratios: [0.481, 1.0, 2.08]\n",
            "Scales: [0.406, 0.546, 0.763]\n",
            "Number of labels that don't have any matching anchor: 24821\n",
            "\n",
            "Current best anchor configuration\n",
            "Ratios: [0.469, 1.0, 2.134]\n",
            "Scales: [0.4, 0.411, 0.553]\n",
            "Number of labels that don't have any matching anchor: 23451\n",
            "\n",
            "Current best anchor configuration\n",
            "Ratios: [0.492, 1.0, 2.033]\n",
            "Scales: [0.402, 0.544, 0.575]\n",
            "Number of labels that don't have any matching anchor: 23524\n",
            "\n",
            "Current best anchor configuration\n",
            "Ratios: [0.498, 1.0, 2.006]\n",
            "Scales: [0.405, 0.532, 0.684]\n",
            "Number of labels that don't have any matching anchor: 24205\n",
            "\n",
            "Current best anchor configuration\n",
            "Ratios: [0.522, 1.0, 1.914]\n",
            "Scales: [0.401, 0.503, 0.599]\n",
            "Number of labels that don't have any matching anchor: 23640\n",
            "\n",
            "Current best anchor configuration\n",
            "Ratios: [0.489, 1.0, 2.044]\n",
            "Scales: [0.4, 0.509, 0.628]\n",
            "Number of labels that don't have any matching anchor: 23503\n",
            "\n",
            "Current best anchor configuration\n",
            "Ratios: [0.476, 1.0, 2.1]\n",
            "Scales: [0.4, 0.514, 0.634]\n",
            "Number of labels that don't have any matching anchor: 23446\n",
            "\n",
            "Current best anchor configuration\n",
            "Ratios: [0.49, 1.0, 2.04]\n",
            "Scales: [0.4, 0.503, 0.62]\n",
            "Number of labels that don't have any matching anchor: 23506\n",
            "\n",
            "Current best anchor configuration\n",
            "Ratios: [0.485, 1.0, 2.061]\n",
            "Scales: [0.4, 0.49, 0.618]\n",
            "Number of labels that don't have any matching anchor: 23491\n",
            "\n",
            "Current best anchor configuration\n",
            "Ratios: [0.501, 1.0, 1.997]\n",
            "Scales: [0.4, 0.511, 0.649]\n",
            "Number of labels that don't have any matching anchor: 23545\n",
            "\n",
            "Current best anchor configuration\n",
            "Ratios: [0.495, 1.0, 2.02]\n",
            "Scales: [0.4, 0.499, 0.627]\n",
            "Number of labels that don't have any matching anchor: 23522\n",
            "\n",
            "Current best anchor configuration\n",
            "Ratios: [0.498, 1.0, 2.008]\n",
            "Scales: [0.4, 0.503, 0.632]\n",
            "Number of labels that don't have any matching anchor: 23537\n",
            "\n",
            "Current best anchor configuration\n",
            "Ratios: [0.498, 1.0, 2.008]\n",
            "Scales: [0.4, 0.503, 0.632]\n",
            "Number of labels that don't have any matching anchor: 23537\n",
            "\n",
            "Current best anchor configuration\n",
            "Ratios: [0.498, 1.0, 2.009]\n",
            "Scales: [0.4, 0.502, 0.633]\n",
            "Number of labels that don't have any matching anchor: 23525\n",
            "\n",
            "Current best anchor configuration\n",
            "Ratios: [0.498, 1.0, 2.009]\n",
            "Scales: [0.4, 0.502, 0.633]\n",
            "Number of labels that don't have any matching anchor: 23525\n",
            "\n",
            "Current best anchor configuration\n",
            "Ratios: [0.495, 1.0, 2.021]\n",
            "Scales: [0.4, 0.501, 0.636]\n",
            "Number of labels that don't have any matching anchor: 23522\n",
            "\n",
            "Current best anchor configuration\n",
            "Ratios: [0.495, 1.0, 2.021]\n",
            "Scales: [0.4, 0.501, 0.636]\n",
            "Number of labels that don't have any matching anchor: 23522\n",
            "\n",
            "Current best anchor configuration\n",
            "Ratios: [0.493, 1.0, 2.03]\n",
            "Scales: [0.4, 0.502, 0.637]\n",
            "Number of labels that don't have any matching anchor: 23507\n",
            "\n",
            "Current best anchor configuration\n",
            "Ratios: [0.493, 1.0, 2.03]\n",
            "Scales: [0.4, 0.502, 0.637]\n",
            "Number of labels that don't have any matching anchor: 23507\n",
            "\n",
            "Current best anchor configuration\n",
            "Ratios: [0.493, 1.0, 2.03]\n",
            "Scales: [0.4, 0.502, 0.637]\n",
            "Number of labels that don't have any matching anchor: 23507\n",
            "\n",
            "Current best anchor configuration\n",
            "Ratios: [0.493, 1.0, 2.03]\n",
            "Scales: [0.4, 0.503, 0.636]\n",
            "Number of labels that don't have any matching anchor: 23507\n",
            "\n",
            "Current best anchor configuration\n",
            "Ratios: [0.493, 1.0, 2.03]\n",
            "Scales: [0.4, 0.503, 0.636]\n",
            "Number of labels that don't have any matching anchor: 23507\n",
            "\n",
            "Current best anchor configuration\n",
            "Ratios: [0.492, 1.0, 2.033]\n",
            "Scales: [0.4, 0.503, 0.635]\n",
            "Number of labels that don't have any matching anchor: 23506\n",
            "\n",
            "Current best anchor configuration\n",
            "Ratios: [0.492, 1.0, 2.033]\n",
            "Scales: [0.4, 0.503, 0.635]\n",
            "Number of labels that don't have any matching anchor: 23506\n",
            "\n",
            "Current best anchor configuration\n",
            "Ratios: [0.491, 1.0, 2.036]\n",
            "Scales: [0.4, 0.502, 0.635]\n",
            "Number of labels that don't have any matching anchor: 23506\n",
            "\n",
            "Current best anchor configuration\n",
            "Ratios: [0.491, 1.0, 2.036]\n",
            "Scales: [0.4, 0.502, 0.635]\n",
            "Number of labels that don't have any matching anchor: 23506\n",
            "\n",
            "Current best anchor configuration\n",
            "Ratios: [0.491, 1.0, 2.036]\n",
            "Scales: [0.4, 0.502, 0.635]\n",
            "Number of labels that don't have any matching anchor: 23506\n",
            "\n",
            "Current best anchor configuration\n",
            "Ratios: [0.491, 1.0, 2.037]\n",
            "Scales: [0.4, 0.502, 0.635]\n",
            "Number of labels that don't have any matching anchor: 23506\n",
            "\n",
            "Current best anchor configuration\n",
            "Ratios: [0.491, 1.0, 2.037]\n",
            "Scales: [0.4, 0.502, 0.635]\n",
            "Number of labels that don't have any matching anchor: 23506\n",
            "\n",
            "Current best anchor configuration\n",
            "Ratios: [0.491, 1.0, 2.037]\n",
            "Scales: [0.4, 0.502, 0.635]\n",
            "Number of labels that don't have any matching anchor: 23506\n",
            "\n",
            "Current best anchor configuration\n",
            "Ratios: [0.491, 1.0, 2.037]\n",
            "Scales: [0.4, 0.502, 0.635]\n",
            "Number of labels that don't have any matching anchor: 23506\n",
            "\n",
            "Current best anchor configuration\n",
            "Ratios: [0.491, 1.0, 2.037]\n",
            "Scales: [0.4, 0.502, 0.635]\n",
            "Number of labels that don't have any matching anchor: 23506\n",
            "\n",
            "Current best anchor configuration\n",
            "Ratios: [0.491, 1.0, 2.037]\n",
            "Scales: [0.4, 0.502, 0.635]\n",
            "Number of labels that don't have any matching anchor: 23506\n",
            "\n",
            "Current best anchor configuration\n",
            "Ratios: [0.491, 1.0, 2.038]\n",
            "Scales: [0.4, 0.502, 0.635]\n",
            "Number of labels that don't have any matching anchor: 23506\n",
            "\n",
            "Current best anchor configuration\n",
            "Ratios: [0.491, 1.0, 2.038]\n",
            "Scales: [0.4, 0.502, 0.635]\n",
            "Number of labels that don't have any matching anchor: 23506\n",
            "\n",
            "Current best anchor configuration\n",
            "Ratios: [0.491, 1.0, 2.038]\n",
            "Scales: [0.4, 0.502, 0.635]\n",
            "Number of labels that don't have any matching anchor: 23506\n",
            "\n",
            "Current best anchor configuration\n",
            "Ratios: [0.491, 1.0, 2.038]\n",
            "Scales: [0.4, 0.502, 0.635]\n",
            "Number of labels that don't have any matching anchor: 23506\n",
            "\n",
            "Current best anchor configuration\n",
            "Ratios: [0.491, 1.0, 2.038]\n",
            "Scales: [0.4, 0.502, 0.635]\n",
            "Number of labels that don't have any matching anchor: 23506\n",
            "\n",
            "Current best anchor configuration\n",
            "Ratios: [0.491, 1.0, 2.038]\n",
            "Scales: [0.4, 0.502, 0.635]\n",
            "Number of labels that don't have any matching anchor: 23506\n",
            "\n",
            "Current best anchor configuration\n",
            "Ratios: [0.491, 1.0, 2.038]\n",
            "Scales: [0.4, 0.502, 0.635]\n",
            "Number of labels that don't have any matching anchor: 23506\n",
            "\n",
            "Current best anchor configuration\n",
            "Ratios: [0.491, 1.0, 2.038]\n",
            "Scales: [0.4, 0.502, 0.635]\n",
            "Number of labels that don't have any matching anchor: 23506\n",
            "\n",
            "Current best anchor configuration\n",
            "Ratios: [0.491, 1.0, 2.038]\n",
            "Scales: [0.4, 0.502, 0.635]\n",
            "Number of labels that don't have any matching anchor: 23506\n",
            "\n",
            "Current best anchor configuration\n",
            "Ratios: [0.491, 1.0, 2.038]\n",
            "Scales: [0.4, 0.502, 0.635]\n",
            "Number of labels that don't have any matching anchor: 23506\n",
            "\n",
            "Current best anchor configuration\n",
            "Ratios: [0.491, 1.0, 2.038]\n",
            "Scales: [0.4, 0.502, 0.635]\n",
            "Number of labels that don't have any matching anchor: 23506\n",
            "\n",
            "Current best anchor configuration\n",
            "Ratios: [0.491, 1.0, 2.038]\n",
            "Scales: [0.4, 0.502, 0.635]\n",
            "Number of labels that don't have any matching anchor: 23506\n",
            "\n",
            "Current best anchor configuration\n",
            "Ratios: [0.491, 1.0, 2.038]\n",
            "Scales: [0.4, 0.502, 0.635]\n",
            "Number of labels that don't have any matching anchor: 23506\n",
            "\n",
            "Current best anchor configuration\n",
            "Ratios: [0.491, 1.0, 2.038]\n",
            "Scales: [0.4, 0.502, 0.635]\n",
            "Number of labels that don't have any matching anchor: 23506\n",
            "\n",
            "Current best anchor configuration\n",
            "Ratios: [0.491, 1.0, 2.038]\n",
            "Scales: [0.4, 0.502, 0.635]\n",
            "Number of labels that don't have any matching anchor: 23506\n",
            "\n",
            "Optimization ended successfully!\n",
            "\n",
            "Final best anchor configuration\n",
            "Ratios: [0.491, 1.0, 2.038]\n",
            "Scales: [0.4, 0.502, 0.635]\n",
            "Number of labels that don't have any matching anchor: 23506\n"
          ],
          "name": "stdout"
        }
      ]
    }
  ]
}