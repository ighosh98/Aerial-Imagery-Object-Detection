{
  "nbformat": 4,
  "nbformat_minor": 0,
  "metadata": {
    "colab": {
      "name": "Anchor_Optimization",
      "provenance": [],
      "collapsed_sections": [],
      "include_colab_link": true
    },
    "kernelspec": {
      "name": "python3",
      "display_name": "Python 3"
    },
    "accelerator": "GPU"
  },
  "cells": [
    {
      "cell_type": "markdown",
      "metadata": {
        "id": "view-in-github",
        "colab_type": "text"
      },
      "source": [
        "<a href=\"https://colab.research.google.com/github/ighosh98/Aerial-Imagery-Object-Detection/blob/master/Anchor_Optimization.ipynb\" target=\"_parent\"><img src=\"https://colab.research.google.com/assets/colab-badge.svg\" alt=\"Open In Colab\"/></a>"
      ]
    },
    {
      "cell_type": "code",
      "metadata": {
        "id": "20NVj5j2lVoU",
        "colab_type": "code",
        "outputId": "2cad01d3-c97a-43d0-ae27-0291be109d2a",
        "colab": {
          "base_uri": "https://localhost:8080/",
          "height": 51
        }
      },
      "source": [
        "from google.colab import drive # import drive from google colab\n",
        "\n",
        "ROOT = \"/content/drive\"     # default location for the drive\n",
        "print(ROOT)                 # print content of ROOT (Optional)\n",
        "\n",
        "drive.mount(ROOT)           # we mount the google drive at /content/drive"
      ],
      "execution_count": 0,
      "outputs": [
        {
          "output_type": "stream",
          "text": [
            "/content/drive\n",
            "Drive already mounted at /content/drive; to attempt to forcibly remount, call drive.mount(\"/content/drive\", force_remount=True).\n"
          ],
          "name": "stdout"
        }
      ]
    },
    {
      "cell_type": "code",
      "metadata": {
        "id": "BON-59onlr01",
        "colab_type": "code",
        "outputId": "3e3ba892-eb14-4c15-b502-da110637596c",
        "colab": {
          "base_uri": "https://localhost:8080/",
          "height": 34
        }
      },
      "source": [
        "%cd /content/drive/My Drive/keras-retinanet-master"
      ],
      "execution_count": 0,
      "outputs": [
        {
          "output_type": "stream",
          "text": [
            "/content/drive/.shortcut-targets-by-id/1w8oclF1TvdCY5An1ZKLLimk-5ZkMowp2/keras-retinanet-master\n"
          ],
          "name": "stdout"
        }
      ]
    },
    {
      "cell_type": "code",
      "metadata": {
        "id": "aVEjuSjTlw7M",
        "colab_type": "code",
        "outputId": "a46a10e0-5c29-49fc-c269-dc31502d195f",
        "colab": {
          "base_uri": "https://localhost:8080/",
          "height": 34
        }
      },
      "source": [
        "%cd keras-retinanet-master"
      ],
      "execution_count": 0,
      "outputs": [
        {
          "output_type": "stream",
          "text": [
            "/content/drive/My Drive/CS SOP/keras-retinanet-master\n"
          ],
          "name": "stdout"
        }
      ]
    },
    {
      "cell_type": "code",
      "metadata": {
        "id": "jvY7ze1TpGMf",
        "colab_type": "code",
        "outputId": "50be1d70-51eb-4696-8737-9a873b4c58bd",
        "colab": {
          "base_uri": "https://localhost:8080/",
          "height": 34
        }
      },
      "source": [
        "%cd input"
      ],
      "execution_count": 0,
      "outputs": [
        {
          "output_type": "stream",
          "text": [
            "/content/drive/My Drive/CS SOP/keras-retinanet-master/input\n"
          ],
          "name": "stdout"
        }
      ]
    },
    {
      "cell_type": "code",
      "metadata": {
        "id": "d62x5PATlyXN",
        "colab_type": "code",
        "outputId": "ad2db5f4-55d2-41b4-ffce-c3cd083a75c2",
        "colab": {
          "base_uri": "https://localhost:8080/",
          "height": 102
        }
      },
      "source": [
        "%ls"
      ],
      "execution_count": 0,
      "outputs": [
        {
          "output_type": "stream",
          "text": [
            " \u001b[0m\u001b[01;34maiskyeye_dataset\u001b[0m/              train_annotations_clipped.csv\n",
            "'Copy of compute_overlap.pyx'   train_annotations.csv\n",
            "'Copy of optimize_anchors.py'   val_annotations_clipped.csv\n",
            "'Copy of setup.py'              val_annotations.csv\n",
            " labels.csv\n"
          ],
          "name": "stdout"
        }
      ]
    },
    {
      "cell_type": "code",
      "metadata": {
        "id": "aW5uVOmct1Do",
        "colab_type": "code",
        "outputId": "746af83b-1ab0-4f8c-cc5c-d471a1fb3622",
        "colab": {
          "base_uri": "https://localhost:8080/",
          "height": 34
        }
      },
      "source": [
        "%cd /content/drive/My Drive/keras-retinanet-master/input"
      ],
      "execution_count": 0,
      "outputs": [
        {
          "output_type": "stream",
          "text": [
            "/content/drive/.shortcut-targets-by-id/1w8oclF1TvdCY5An1ZKLLimk-5ZkMowp2/keras-retinanet-master/input\n"
          ],
          "name": "stdout"
        }
      ]
    },
    {
      "cell_type": "code",
      "metadata": {
        "id": "n-Nb4mgSl75Z",
        "colab_type": "code",
        "outputId": "16a40fdf-0e58-4957-cc1d-859ca88be6ff",
        "colab": {
          "base_uri": "https://localhost:8080/",
          "height": 61
        }
      },
      "source": [
        "!pip install ."
      ],
      "execution_count": 0,
      "outputs": [
        {
          "output_type": "stream",
          "text": [
            "Processing /content/drive/.shortcut-targets-by-id/1w8oclF1TvdCY5An1ZKLLimk-5ZkMowp2/keras-retinanet-master\n"
          ],
          "name": "stdout"
        }
      ]
    },
    {
      "cell_type": "code",
      "metadata": {
        "id": "leNW5CdwmFVQ",
        "colab_type": "code",
        "outputId": "fa40844f-a3ee-4f24-a556-6f0b2b13a992",
        "colab": {
          "base_uri": "https://localhost:8080/",
          "height": 34
        }
      },
      "source": [
        "!python setup.py build_ext --inplace"
      ],
      "execution_count": 0,
      "outputs": [
        {
          "output_type": "stream",
          "text": [
            "python3: can't open file 'setup.py': [Errno 2] No such file or directory\n"
          ],
          "name": "stdout"
        }
      ]
    },
    {
      "cell_type": "code",
      "metadata": {
        "id": "KWc3TgP-mf5L",
        "colab_type": "code",
        "outputId": "8551db04-90d3-4b01-d116-18dee8738859",
        "colab": {
          "base_uri": "https://localhost:8080/",
          "height": 1000
        }
      },
      "source": [
        "!python optimize_anchors.py train_annotations2.csv --no-resize"
      ],
      "execution_count": 0,
      "outputs": [
        {
          "output_type": "stream",
          "text": [
            "Using TensorFlow backend.\n",
            "2020-04-17 19:31:55.463974: I tensorflow/stream_executor/platform/default/dso_loader.cc:44] Successfully opened dynamic library libcudart.so.10.1\n",
            "Loading object dimensions.\n",
            "Optimising anchors.\n",
            "Current best anchor configuration\n",
            "Ratios: [0.302, 1.0, 3.313]\n",
            "Scales: [0.918, 1.085, 1.541]\n",
            "Number of labels that don't have any matching anchor: 286\n",
            "\n",
            "Current best anchor configuration\n",
            "Ratios: [0.298, 1.0, 3.351]\n",
            "Scales: [0.856, 1.4, 1.468]\n",
            "Number of labels that don't have any matching anchor: 247\n",
            "\n",
            "Current best anchor configuration\n",
            "Ratios: [0.758, 1.0, 1.319]\n",
            "Scales: [0.471, 1.327, 1.971]\n",
            "Number of labels that don't have any matching anchor: 166\n",
            "\n",
            "Current best anchor configuration\n",
            "Ratios: [0.45, 1.0, 2.224]\n",
            "Scales: [0.46, 0.682, 0.696]\n",
            "Number of labels that don't have any matching anchor: 86\n",
            "\n",
            "Current best anchor configuration\n",
            "Ratios: [0.399, 1.0, 2.507]\n",
            "Scales: [0.451, 0.718, 1.849]\n",
            "Number of labels that don't have any matching anchor: 80\n",
            "\n",
            "Current best anchor configuration\n",
            "Ratios: [0.581, 1.0, 1.72]\n",
            "Scales: [0.401, 0.443, 1.34]\n",
            "Number of labels that don't have any matching anchor: 75\n",
            "\n",
            "Current best anchor configuration\n",
            "Ratios: [0.339, 1.0, 2.954]\n",
            "Scales: [0.427, 0.566, 0.779]\n",
            "Number of labels that don't have any matching anchor: 62\n",
            "\n",
            "Current best anchor configuration\n",
            "Ratios: [0.569, 1.0, 1.758]\n",
            "Scales: [0.401, 0.65, 0.693]\n",
            "Number of labels that don't have any matching anchor: 71\n",
            "\n",
            "Current best anchor configuration\n",
            "Ratios: [0.373, 1.0, 2.681]\n",
            "Scales: [0.401, 0.407, 0.976]\n",
            "Number of labels that don't have any matching anchor: 57\n",
            "\n",
            "Current best anchor configuration\n",
            "Ratios: [0.48, 1.0, 2.083]\n",
            "Scales: [0.401, 0.443, 1.034]\n",
            "Number of labels that don't have any matching anchor: 62\n",
            "\n",
            "Current best anchor configuration\n",
            "Ratios: [0.485, 1.0, 2.063]\n",
            "Scales: [0.407, 0.555, 1.296]\n",
            "Number of labels that don't have any matching anchor: 64\n",
            "\n",
            "Current best anchor configuration\n",
            "Ratios: [0.468, 1.0, 2.135]\n",
            "Scales: [0.407, 0.555, 0.599]\n",
            "Number of labels that don't have any matching anchor: 63\n",
            "\n",
            "Current best anchor configuration\n",
            "Ratios: [0.414, 1.0, 2.416]\n",
            "Scales: [0.402, 0.619, 1.14]\n",
            "Number of labels that don't have any matching anchor: 57\n",
            "\n",
            "Current best anchor configuration\n",
            "Ratios: [0.467, 1.0, 2.141]\n",
            "Scales: [0.403, 0.525, 0.731]\n",
            "Number of labels that don't have any matching anchor: 63\n",
            "\n",
            "Current best anchor configuration\n",
            "Ratios: [0.444, 1.0, 2.253]\n",
            "Scales: [0.403, 0.541, 1.383]\n",
            "Number of labels that don't have any matching anchor: 60\n",
            "\n",
            "Current best anchor configuration\n",
            "Ratios: [0.457, 1.0, 2.189]\n",
            "Scales: [0.4, 0.469, 0.66]\n",
            "Number of labels that don't have any matching anchor: 59\n",
            "\n",
            "Current best anchor configuration\n",
            "Ratios: [0.427, 1.0, 2.34]\n",
            "Scales: [0.4, 0.473, 0.605]\n",
            "Number of labels that don't have any matching anchor: 58\n",
            "\n",
            "Current best anchor configuration\n",
            "Ratios: [0.427, 1.0, 2.34]\n",
            "Scales: [0.4, 0.512, 0.642]\n",
            "Number of labels that don't have any matching anchor: 58\n",
            "\n",
            "Current best anchor configuration\n",
            "Ratios: [0.427, 1.0, 2.341]\n",
            "Scales: [0.4, 0.497, 0.636]\n",
            "Number of labels that don't have any matching anchor: 58\n",
            "\n",
            "Current best anchor configuration\n",
            "Ratios: [0.436, 1.0, 2.295]\n",
            "Scales: [0.4, 0.504, 0.619]\n",
            "Number of labels that don't have any matching anchor: 58\n",
            "\n",
            "Current best anchor configuration\n",
            "Ratios: [0.437, 1.0, 2.291]\n",
            "Scales: [0.4, 0.489, 0.617]\n",
            "Number of labels that don't have any matching anchor: 58\n",
            "\n",
            "Current best anchor configuration\n",
            "Ratios: [0.437, 1.0, 2.287]\n",
            "Scales: [0.4, 0.501, 0.627]\n",
            "Number of labels that don't have any matching anchor: 58\n",
            "\n",
            "Current best anchor configuration\n",
            "Ratios: [0.437, 1.0, 2.287]\n",
            "Scales: [0.4, 0.501, 0.627]\n",
            "Number of labels that don't have any matching anchor: 58\n",
            "\n",
            "Current best anchor configuration\n",
            "Ratios: [0.437, 1.0, 2.286]\n",
            "Scales: [0.4, 0.5, 0.628]\n",
            "Number of labels that don't have any matching anchor: 58\n",
            "\n",
            "Current best anchor configuration\n",
            "Ratios: [0.437, 1.0, 2.286]\n",
            "Scales: [0.4, 0.5, 0.628]\n",
            "Number of labels that don't have any matching anchor: 58\n",
            "\n",
            "Current best anchor configuration\n",
            "Ratios: [0.437, 1.0, 2.286]\n",
            "Scales: [0.4, 0.5, 0.628]\n",
            "Number of labels that don't have any matching anchor: 58\n",
            "\n",
            "Current best anchor configuration\n",
            "Ratios: [0.438, 1.0, 2.286]\n",
            "Scales: [0.4, 0.5, 0.628]\n",
            "Number of labels that don't have any matching anchor: 58\n",
            "\n",
            "Current best anchor configuration\n",
            "Ratios: [0.438, 1.0, 2.286]\n",
            "Scales: [0.4, 0.5, 0.628]\n",
            "Number of labels that don't have any matching anchor: 58\n",
            "\n",
            "Current best anchor configuration\n",
            "Ratios: [0.438, 1.0, 2.285]\n",
            "Scales: [0.4, 0.5, 0.629]\n",
            "Number of labels that don't have any matching anchor: 58\n",
            "\n",
            "Current best anchor configuration\n",
            "Ratios: [0.438, 1.0, 2.283]\n",
            "Scales: [0.4, 0.5, 0.629]\n",
            "Number of labels that don't have any matching anchor: 58\n",
            "\n",
            "Current best anchor configuration\n",
            "Ratios: [0.438, 1.0, 2.283]\n",
            "Scales: [0.4, 0.5, 0.629]\n",
            "Number of labels that don't have any matching anchor: 58\n",
            "\n",
            "Current best anchor configuration\n",
            "Ratios: [0.44, 1.0, 2.271]\n",
            "Scales: [0.4, 0.501, 0.632]\n",
            "Number of labels that don't have any matching anchor: 58\n",
            "\n",
            "Current best anchor configuration\n",
            "Ratios: [0.44, 1.0, 2.271]\n",
            "Scales: [0.4, 0.501, 0.632]\n",
            "Number of labels that don't have any matching anchor: 58\n",
            "\n",
            "Current best anchor configuration\n",
            "Ratios: [0.44, 1.0, 2.271]\n",
            "Scales: [0.4, 0.501, 0.632]\n",
            "Number of labels that don't have any matching anchor: 58\n",
            "\n",
            "Current best anchor configuration\n",
            "Ratios: [0.44, 1.0, 2.272]\n",
            "Scales: [0.4, 0.502, 0.631]\n",
            "Number of labels that don't have any matching anchor: 58\n",
            "\n",
            "Current best anchor configuration\n",
            "Ratios: [0.44, 1.0, 2.272]\n",
            "Scales: [0.4, 0.502, 0.631]\n",
            "Number of labels that don't have any matching anchor: 58\n",
            "\n",
            "Current best anchor configuration\n",
            "Ratios: [0.44, 1.0, 2.272]\n",
            "Scales: [0.4, 0.502, 0.631]\n",
            "Number of labels that don't have any matching anchor: 58\n",
            "\n",
            "Current best anchor configuration\n",
            "Ratios: [0.44, 1.0, 2.272]\n",
            "Scales: [0.4, 0.502, 0.631]\n",
            "Number of labels that don't have any matching anchor: 58\n",
            "\n",
            "Current best anchor configuration\n",
            "Ratios: [0.44, 1.0, 2.273]\n",
            "Scales: [0.4, 0.502, 0.632]\n",
            "Number of labels that don't have any matching anchor: 58\n",
            "\n",
            "Current best anchor configuration\n",
            "Ratios: [0.44, 1.0, 2.273]\n",
            "Scales: [0.4, 0.502, 0.632]\n",
            "Number of labels that don't have any matching anchor: 58\n",
            "\n",
            "Current best anchor configuration\n",
            "Ratios: [0.44, 1.0, 2.273]\n",
            "Scales: [0.4, 0.502, 0.632]\n",
            "Number of labels that don't have any matching anchor: 58\n",
            "\n",
            "Current best anchor configuration\n",
            "Ratios: [0.44, 1.0, 2.274]\n",
            "Scales: [0.4, 0.503, 0.632]\n",
            "Number of labels that don't have any matching anchor: 58\n",
            "\n",
            "Current best anchor configuration\n",
            "Ratios: [0.44, 1.0, 2.274]\n",
            "Scales: [0.4, 0.503, 0.632]\n",
            "Number of labels that don't have any matching anchor: 58\n",
            "\n",
            "Current best anchor configuration\n",
            "Ratios: [0.44, 1.0, 2.274]\n",
            "Scales: [0.4, 0.503, 0.632]\n",
            "Number of labels that don't have any matching anchor: 58\n",
            "\n",
            "Current best anchor configuration\n",
            "Ratios: [0.44, 1.0, 2.274]\n",
            "Scales: [0.4, 0.503, 0.632]\n",
            "Number of labels that don't have any matching anchor: 58\n",
            "\n",
            "Current best anchor configuration\n",
            "Ratios: [0.44, 1.0, 2.274]\n",
            "Scales: [0.4, 0.503, 0.632]\n",
            "Number of labels that don't have any matching anchor: 58\n",
            "\n",
            "Current best anchor configuration\n",
            "Ratios: [0.44, 1.0, 2.273]\n",
            "Scales: [0.4, 0.503, 0.632]\n",
            "Number of labels that don't have any matching anchor: 58\n",
            "\n",
            "Current best anchor configuration\n",
            "Ratios: [0.44, 1.0, 2.273]\n",
            "Scales: [0.4, 0.503, 0.632]\n",
            "Number of labels that don't have any matching anchor: 58\n",
            "\n",
            "Current best anchor configuration\n",
            "Ratios: [0.44, 1.0, 2.273]\n",
            "Scales: [0.4, 0.503, 0.632]\n",
            "Number of labels that don't have any matching anchor: 58\n",
            "\n",
            "Current best anchor configuration\n",
            "Ratios: [0.44, 1.0, 2.273]\n",
            "Scales: [0.4, 0.503, 0.632]\n",
            "Number of labels that don't have any matching anchor: 58\n",
            "\n",
            "Current best anchor configuration\n",
            "Ratios: [0.44, 1.0, 2.273]\n",
            "Scales: [0.4, 0.503, 0.632]\n",
            "Number of labels that don't have any matching anchor: 58\n",
            "\n",
            "Current best anchor configuration\n",
            "Ratios: [0.44, 1.0, 2.273]\n",
            "Scales: [0.4, 0.503, 0.632]\n",
            "Number of labels that don't have any matching anchor: 58\n",
            "\n",
            "Optimization ended successfully!\n",
            "\n",
            "Final best anchor configuration\n",
            "Ratios: [0.44, 1.0, 2.273]\n",
            "Scales: [0.4, 0.503, 0.632]\n",
            "Number of labels that don't have any matching anchor: 58\n"
          ],
          "name": "stdout"
        }
      ]
    }
  ]
}